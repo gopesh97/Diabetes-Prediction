{
 "cells": [
  {
   "cell_type": "code",
   "execution_count": 25,
   "metadata": {},
   "outputs": [
    {
     "name": "stdout",
     "output_type": "stream",
     "text": [
      "enter details\n",
      "6\n",
      "148\n",
      "72\n",
      "35\n",
      "0\n",
      "33.6\n",
      "0.627\n",
      "50\n"
     ]
    }
   ],
   "source": [
    "import numpy as np\n",
    "import pandas as pd\n",
    "from sklearn.externals import joblib\n",
    "clf=joblib.load('dia.joblib')\n",
    "l=[]\n",
    "print('enter details')\n",
    "for i in range(8):\n",
    "    l.append(float(input('')))\n",
    "x=np.array(l).reshape(-1,8)\n",
    "pred=clf.predict(x)\n",
    "if a==1:\n",
    "    print('Sorry , kasht hai')\n",
    "else:\n",
    "    print('sorry, boht zyada kasht hai')\n",
    "\n",
    "\n"
   ]
  }
 ],
 "metadata": {
  "kernelspec": {
   "display_name": "Python 3",
   "language": "python",
   "name": "python3"
  },
  "language_info": {
   "codemirror_mode": {
    "name": "ipython",
    "version": 3
   },
   "file_extension": ".py",
   "mimetype": "text/x-python",
   "name": "python",
   "nbconvert_exporter": "python",
   "pygments_lexer": "ipython3",
   "version": "3.6.6"
  }
 },
 "nbformat": 4,
 "nbformat_minor": 2
}
